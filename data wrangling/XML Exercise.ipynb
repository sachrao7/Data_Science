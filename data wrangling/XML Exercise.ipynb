{
 "cells": [
  {
   "cell_type": "markdown",
   "metadata": {},
   "source": [
    "# XML example and exercise\n",
    "****\n",
    "+ study examples of accessing nodes in XML tree structure  \n",
    "+ work on exercise to be completed and submitted\n",
    "****\n",
    "+ reference: https://docs.python.org/2.7/library/xml.etree.elementtree.html\n",
    "+ data source: http://www.dbis.informatik.uni-goettingen.de/Mondial\n",
    "****"
   ]
  },
  {
   "cell_type": "code",
   "execution_count": 5,
   "metadata": {
    "collapsed": true
   },
   "outputs": [],
   "source": [
    "from xml.etree import ElementTree as ET"
   ]
  },
  {
   "cell_type": "markdown",
   "metadata": {},
   "source": [
    "## XML example\n",
    "\n",
    "+ for details about tree traversal and iterators, see https://docs.python.org/2.7/library/xml.etree.elementtree.html"
   ]
  },
  {
   "cell_type": "code",
   "execution_count": 6,
   "metadata": {
    "collapsed": true
   },
   "outputs": [],
   "source": [
    "document_tree = ET.parse( './data/mondial_database_less.xml' )"
   ]
  },
  {
   "cell_type": "code",
   "execution_count": 8,
   "metadata": {
    "collapsed": false
   },
   "outputs": [
    {
     "name": "stdout",
     "output_type": "stream",
     "text": [
      "Albania\n",
      "Greece\n",
      "Macedonia\n",
      "Serbia\n",
      "Montenegro\n",
      "Kosovo\n",
      "Andorra\n"
     ]
    }
   ],
   "source": [
    "# print names of all countries\n",
    "for child in document_tree.getroot():\n",
    "    print (child.find('name').text)"
   ]
  },
  {
   "cell_type": "code",
   "execution_count": 11,
   "metadata": {
    "collapsed": false
   },
   "outputs": [
    {
     "name": "stdout",
     "output_type": "stream",
     "text": [
      "* Albania:\n",
      "Tirana, Shkodër, Durrës, Vlorë, Elbasan, Korçë\n",
      "* Greece:\n",
      "Komotini, Kavala, Athina, Peiraias, Peristeri, Acharnes, Patra, Kozani, Kerkyra, Ioannina, Thessaloniki, Iraklio, Chania, Ermoupoli, Rhodes, Tripoli, Lamia, Chalkida, Larissa, Volos, Mytilini, Karyes\n",
      "* Macedonia:\n",
      "Skopje, Kumanovo\n",
      "* Serbia:\n",
      "Beograd, Novi Sad, Niš\n",
      "* Montenegro:\n",
      "Podgorica\n",
      "* Kosovo:\n",
      "Prishtine\n",
      "* Andorra:\n",
      "Andorra la Vella\n"
     ]
    }
   ],
   "source": [
    "# print names of all countries and their cities\n",
    "for element in document_tree.iterfind('country'):\n",
    "    print ('* ' + element.find('name').text + ':',)\n",
    "    capitals_string = ''\n",
    "    for subelement in element.getiterator('city'):\n",
    "        capitals_string += subelement.find('name').text + ', '\n",
    "    print (capitals_string[:-2])"
   ]
  },
  {
   "cell_type": "code",
   "execution_count": null,
   "metadata": {
    "collapsed": true
   },
   "outputs": [],
   "source": []
  },
  {
   "cell_type": "code",
   "execution_count": null,
   "metadata": {
    "collapsed": true
   },
   "outputs": [],
   "source": []
  },
  {
   "cell_type": "markdown",
   "metadata": {},
   "source": [
    "****\n",
    "## XML exercise\n",
    "\n",
    "Using data in 'data/mondial_database.xml', the examples above, and refering to https://docs.python.org/2.7/library/xml.etree.elementtree.html, find\n",
    "\n",
    "1. 10 countries with the lowest infant mortality rates\n",
    "2. 10 cities with the largest population\n",
    "3. 10 ethnic groups with the largest overall populations (sum of best/latest estimates over all countries)\n",
    "4. name and country of a) longest river, b) largest lake and c) airport at highest elevation"
   ]
  },
  {
   "cell_type": "code",
   "execution_count": 15,
   "metadata": {
    "collapsed": true
   },
   "outputs": [],
   "source": [
    "tree = ET.parse( './data/mondial_database.xml' )"
   ]
  },
  {
   "cell_type": "code",
   "execution_count": 240,
   "metadata": {
    "collapsed": false
   },
   "outputs": [
    {
     "name": "stdout",
     "output_type": "stream",
     "text": [
      "('Monaco', 1.81)\n",
      "('Japan', 2.13)\n",
      "('Norway', 2.48)\n",
      "('Bermuda', 2.48)\n",
      "('Singapore', 2.53)\n",
      "('Sweden', 2.6)\n",
      "('Czech Republic', 2.63)\n",
      "('Hong Kong', 2.73)\n",
      "('Macao', 3.13)\n",
      "('Iceland', 3.15)\n"
     ]
    }
   ],
   "source": [
    "# 10 countries with the lowest infant mortality rates\n",
    "\n",
    "#population dictionary with country as key and rate as value\n",
    "import operator\n",
    "dict_with_strs={}\n",
    "for country in root.iterfind('country'):\n",
    "    name = country.find('name').text\n",
    "    for i in country.iterfind('infant_mortality'):\n",
    "        infantmortality = i.text\n",
    "        dict_with_strs[name] = infantmortality\n",
    "        \n",
    "\n",
    "#cast strings to floats for the values\n",
    "dict_with_numbers = dict((k,float(v)) for k,v in dict_with_strs.items())\n",
    "dict_with_numbers\n",
    "\n",
    "#sort dictionary by value in ascending order\n",
    "srted= sorted(dict_with_numbers.items(), key=operator.itemgetter(1))\n",
    "\n",
    "#print the first 10 records\n",
    "count=0\n",
    "while count < 10:\n",
    "    print(srted[count])\n",
    "    count+=1\n"
   ]
  },
  {
   "cell_type": "raw",
   "metadata": {},
   "source": [
    "\n"
   ]
  },
  {
   "cell_type": "code",
   "execution_count": 242,
   "metadata": {
    "collapsed": false,
    "scrolled": true
   },
   "outputs": [
    {
     "data": {
      "text/plain": [
       "[('Shanghai', 22315474),\n",
       " ('Istanbul', 13710512),\n",
       " ('Mumbai', 12442373),\n",
       " ('Moskva', 11979529),\n",
       " ('Beijing', 11716620),\n",
       " ('São Paulo', 11152344),\n",
       " ('Tianjin', 11090314),\n",
       " ('Guangzhou', 11071424),\n",
       " ('Delhi', 11034555),\n",
       " ('Shenzhen', 10358381)]"
      ]
     },
     "execution_count": 242,
     "metadata": {},
     "output_type": "execute_result"
    }
   ],
   "source": [
    "#10 cities with the largest population\n",
    "\n",
    "#iterate through city and get the population number\n",
    "city_dict={}\n",
    "for country in root.iterfind('country'):\n",
    "    for city in country.iter('city'):\n",
    "        city_name = city.find('name').text    \n",
    "        for population in city.iter('population'):\n",
    "            population_num = population.text\n",
    "            city_dict[city_name] = population_num\n",
    "\n",
    "#cast the strings into ints \n",
    "dict_with_ints = dict((k,int(v)) for k,v in city_dict.items())\n",
    "dict_with_ints\n",
    "\n",
    "#sort the dictionary values\n",
    "final_sorted= sorted(dict_with_ints.items(), key=lambda kv: kv[1], reverse=True)\n",
    "final_sorted[:10]\n",
    "\n",
    "\n",
    "            #print(population['year'])"
   ]
  },
  {
   "cell_type": "code",
   "execution_count": 241,
   "metadata": {
    "collapsed": false
   },
   "outputs": [
    {
     "data": {
      "text/plain": [
       "[('Malay', 89414169),\n",
       " ('Eastern Hamitic', 82830376),\n",
       " ('Viet/Kinh', 76078375),\n",
       " ('Thai', 51084156),\n",
       " ('Arab-Berber', 50583950),\n",
       " ('Arab', 42402733),\n",
       " ('African', 40986968),\n",
       " ('Mangbetu-Azande', 27986022),\n",
       " ('Han Chinese', 27175500),\n",
       " ('Chinese', 22357554)]"
      ]
     },
     "execution_count": 241,
     "metadata": {},
     "output_type": "execute_result"
    }
   ],
   "source": [
    "#10 ethnic groups with the largest overall populations (sum of best/latest estimates over all countries)\n",
    "population_dict={}\n",
    "\n",
    "#append the population with the country name\n",
    "for country in root.iterfind('country'): \n",
    "    country_name = country.find('name').text\n",
    "    #print(country_name)\n",
    "    population_year = []\n",
    "    \n",
    "    #grab the year and get the max year for each country\n",
    "    for population in country.iter('population'):\n",
    "        population_year.append(population.attrib['year'])\n",
    "    max_pop=max(population_year)\n",
    "    \n",
    "    #grab the population number from the max year\n",
    "    for population in country.iter('population'):\n",
    "        if max_pop == population.attrib['year']:\n",
    "            pop_number = population.text\n",
    "        else:\n",
    "            continue\n",
    "    population_dict[country_name] = pop_number\n",
    "\n",
    "#convert strings to ints\n",
    "population_ints = dict((k,int(v)) for k,v in population_dict.items())\n",
    "\n",
    "        \n",
    "    \n",
    "    \n",
    "#getting the max percentage ethnic group\n",
    "\n",
    "ethnic_nested={}\n",
    "for country in root.iterfind('country'):\n",
    "    country_name = country.find('name').text\n",
    "    x = []\n",
    "    for ethnic in country.iter('ethnicgroup'):\n",
    "        ethnic_dict={}\n",
    "        ethnic_dict[ethnic.text] = float(ethnic.attrib['percentage'])\n",
    "        x.append(ethnic_dict)\n",
    "    ethnic_nested[country_name] = x\n",
    "\n",
    "\n",
    "\n",
    "#iterating through the nested ethnic group dictionary and multiplying the percentages by the population\n",
    "ethnic_pop_dict={}\n",
    "for country, list in ethnic_nested.items():\n",
    "    for ethnicity in list:\n",
    "        for ethnicity_name, percentage in ethnicity.items():\n",
    "            if ethnicity_name in ethnic_pop_dict:\n",
    "                ethnic_pop_dict[ethnicity_name] += int(percentage*population_ints[country]/100)\n",
    "            else:\n",
    "                ethnic_pop_dict[ethnicity_name] = int(percentage*population_ints[country]/100)\n",
    "\n",
    "ethnic_pop_dict\n",
    "final = sorted(ethnic_pop_dict.items(), key=lambda kv: kv[1], reverse=True)\n",
    "final[:10]    \n",
    "        \n",
    "    \n",
    "        \n",
    "    \n",
    "        \n",
    "    \n",
    "    \n",
    "    "
   ]
  },
  {
   "cell_type": "code",
   "execution_count": null,
   "metadata": {
    "collapsed": false
   },
   "outputs": [],
   "source": []
  },
  {
   "cell_type": "code",
   "execution_count": null,
   "metadata": {
    "collapsed": true
   },
   "outputs": [],
   "source": []
  }
 ],
 "metadata": {
  "kernelspec": {
   "display_name": "Python 3",
   "language": "python",
   "name": "python3"
  },
  "language_info": {
   "codemirror_mode": {
    "name": "ipython",
    "version": 3
   },
   "file_extension": ".py",
   "mimetype": "text/x-python",
   "name": "python",
   "nbconvert_exporter": "python",
   "pygments_lexer": "ipython3",
   "version": "3.6.0"
  }
 },
 "nbformat": 4,
 "nbformat_minor": 0
}
